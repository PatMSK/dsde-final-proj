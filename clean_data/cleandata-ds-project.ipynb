{
 "cells": [
  {
   "cell_type": "code",
   "execution_count": 1,
   "id": "e5a1414a",
   "metadata": {
    "_cell_guid": "b1076dfc-b9ad-4769-8c92-a6c4dae69d19",
    "_uuid": "8f2839f25d086af736a60e9eeb907d3b93b6e0e5",
    "execution": {
     "iopub.execute_input": "2025-05-06T08:57:47.527308Z",
     "iopub.status.busy": "2025-05-06T08:57:47.527109Z",
     "iopub.status.idle": "2025-05-06T08:57:48.908196Z",
     "shell.execute_reply": "2025-05-06T08:57:48.907339Z"
    },
    "papermill": {
     "duration": 1.385763,
     "end_time": "2025-05-06T08:57:48.909462",
     "exception": false,
     "start_time": "2025-05-06T08:57:47.523699",
     "status": "completed"
    },
    "tags": []
   },
   "outputs": [
    {
     "name": "stdout",
     "output_type": "stream",
     "text": [
      "/kaggle/input/bankok-traffy-csv/bangkok_traffy.csv\n",
      "/kaggle/input/fondue-data-scape/fondue_scraping.csv\n",
      "/kaggle/input/fondue-data-scape/fondue_data_scape.csv\n"
     ]
    }
   ],
   "source": [
    "# This Python 3 environment comes with many helpful analytics libraries installed\n",
    "# It is defined by the kaggle/python Docker image: https://github.com/kaggle/docker-python\n",
    "# For example, here's several helpful packages to load\n",
    "\n",
    "import numpy as np # linear algebra\n",
    "import pandas as pd # data processing, CSV file I/O (e.g. pd.read_csv)\n",
    "\n",
    "# Input data files are available in the read-only \"../input/\" directory\n",
    "# For example, running this (by clicking run or pressing Shift+Enter) will list all files under the input directory\n",
    "\n",
    "import os\n",
    "for dirname, _, filenames in os.walk('/kaggle/input'):\n",
    "    for filename in filenames:\n",
    "        print(os.path.join(dirname, filename))\n",
    "\n",
    "# You can write up to 20GB to the current directory (/kaggle/working/) that gets preserved as output when you create a version using \"Save & Run All\" \n",
    "# You can also write temporary files to /kaggle/temp/, but they won't be saved outside of the current session"
   ]
  },
  {
   "cell_type": "code",
   "execution_count": 2,
   "id": "b443a4eb",
   "metadata": {
    "execution": {
     "iopub.execute_input": "2025-05-06T08:57:48.915036Z",
     "iopub.status.busy": "2025-05-06T08:57:48.914721Z",
     "iopub.status.idle": "2025-05-06T08:58:23.600767Z",
     "shell.execute_reply": "2025-05-06T08:58:23.600212Z"
    },
    "papermill": {
     "duration": 34.690186,
     "end_time": "2025-05-06T08:58:23.602239",
     "exception": false,
     "start_time": "2025-05-06T08:57:48.912053",
     "status": "completed"
    },
    "tags": []
   },
   "outputs": [],
   "source": [
    "import pandas as pd\n",
    "\n",
    "# Load the CSV file\n",
    "df = pd.read_csv('/kaggle/input/bankok-traffy-csv/bangkok_traffy.csv')\n",
    "df_scrape= pd.read_csv('/kaggle/input/fondue-data-scape/fondue_scraping.csv')"
   ]
  },
  {
   "cell_type": "code",
   "execution_count": 3,
   "id": "d8781de9",
   "metadata": {
    "execution": {
     "iopub.execute_input": "2025-05-06T08:58:23.608035Z",
     "iopub.status.busy": "2025-05-06T08:58:23.607781Z",
     "iopub.status.idle": "2025-05-06T08:58:24.939274Z",
     "shell.execute_reply": "2025-05-06T08:58:24.938405Z"
    },
    "papermill": {
     "duration": 1.33615,
     "end_time": "2025-05-06T08:58:24.940811",
     "exception": false,
     "start_time": "2025-05-06T08:58:23.604661",
     "status": "completed"
    },
    "tags": []
   },
   "outputs": [],
   "source": [
    "import pandas as pd\n",
    "import numpy as np\n",
    "import re\n",
    "from sklearn.pipeline import Pipeline\n",
    "from sklearn.impute import SimpleImputer\n",
    "from sklearn.base import BaseEstimator, TransformerMixin\n",
    "from sklearn.preprocessing import FunctionTransformer\n",
    "\n",
    "# Sample target departments and Bangkok variants (fill in with your actual data)\n",
    "target_departments = {\n",
    "    'สำนักงานตำรวจแห่งชาติ',\n",
    "    'กองบัญชาการตำรวจนครบาล',\n",
    "    'สำนักการโยธา',\n",
    "    'สำนักงานก่อสร้างและบูรณะ',\n",
    "    'การไฟฟ้านครหลวง',\n",
    "    'สำนักการจราจรและขนส่ง',\n",
    "    'สำนักสิ่งแวดล้อม',\n",
    "    'สำนักการระบายน้ำ',\n",
    "    'กองบังคับการตำรวจนครบาล',\n",
    "    'กลุ่มงานสัญญาณไฟจราจร',\n",
    "    'กสทช.',\n",
    "    'กลุ่มงานบริหารทรัพย์สิน',\n",
    "    'ขสมก.',\n",
    "    'การประปานครหลวง',\n",
    "    'เขต',\n",
    "    'สน.'\n",
    "}\n",
    "bangkok_variants = {\n",
    "    'กรุงเทพมหานคร',\n",
    "    'จังหวัดกรุงเทพมหานคร',\n",
    "}\n",
    "bangkok_districts = {\n",
    "    'สาทร', 'ประเวศ', 'ดุสิต', 'บางเขน', 'ลาดพร้าว', 'ราชเทวี',\n",
    "    'บางซื่อ', 'บึงกุ่ม', 'คลองเตย', 'ทุ่งครุ', 'ดอนเมือง',\n",
    "    'วังทองหลาง', 'ดินแดง', 'พญาไท', 'ยานนาวา', 'ตลิ่งชัน', 'หลักสี่',\n",
    "    'บางขุนเทียน', 'ห้วยขวาง', 'พระนคร', 'จอมทอง', 'บางกะปิ',\n",
    "    'บางคอแหลม', 'หนองจอก', 'บางแค', 'จตุจักร', 'บางพลัด', 'บางบอน',\n",
    "    'ภาษีเจริญ', 'ราษฎร์บูรณะ', 'คันนายาว', 'บางกอกน้อย', 'วัฒนา',\n",
    "    'คลองสาน', 'ลาดกระบัง', 'พระโขนง', 'หนองแขม', 'สวนหลวง',\n",
    "    'คลองสามวา', 'สัมพันธวงศ์', 'ปทุมวัน', 'สายไหม', 'บางนา', 'ธนบุรี',\n",
    "    'ป้อมปราบศัตรูพ่าย', 'สะพานสูง', 'มีนบุรี', 'ทวีวัฒนา', 'บางรัก',\n",
    "    'บางกอกใหญ่'\n",
    "}\n",
    "\n",
    "# Custom transformers\n",
    "class DateTimeConverter(BaseEstimator, TransformerMixin):\n",
    "    def __init__(self, cols):\n",
    "        self.cols = cols\n",
    "\n",
    "    def fit(self, X, y=None):\n",
    "        return self\n",
    "\n",
    "    def transform(self, X):\n",
    "        X = X.copy()\n",
    "        for col in self.cols:\n",
    "            X[col] = pd.to_datetime(X[col], errors='coerce')\n",
    "        return X\n",
    "\n",
    "\n",
    "class ResolutionTimeCalculator(BaseEstimator, TransformerMixin):\n",
    "    def fit(self, X, y=None):\n",
    "        return self\n",
    "\n",
    "    def transform(self, X):\n",
    "        X = X.copy()\n",
    "        X['resolution_time'] = (X['last_activity'] - X['timestamp']).dt.total_seconds() / 3600\n",
    "        return X\n",
    "\n",
    "\n",
    "class OutlierRemover(BaseEstimator, TransformerMixin):\n",
    "    def fit(self, X, y=None):\n",
    "        Q1 = X['resolution_time'].quantile(0.25)\n",
    "        Q3 = X['resolution_time'].quantile(0.75)\n",
    "        IQR = Q3 - Q1\n",
    "        self.lower_bound = Q1 - 1.5 * IQR\n",
    "        self.upper_bound = Q3 + 1.5 * IQR\n",
    "        return self\n",
    "\n",
    "    def transform(self, X):\n",
    "        return X[(X['resolution_time'] >= self.lower_bound) & (X['resolution_time'] <= self.upper_bound)].copy()\n",
    "\n",
    "\n",
    "class DepartmentMatcher(BaseEstimator, TransformerMixin):\n",
    "    def fit(self, X, y=None):\n",
    "        return self\n",
    "\n",
    "    def transform(self, X):\n",
    "        def match_department(org_name):\n",
    "            for keyword in target_departments:\n",
    "                if pd.notnull(org_name) and keyword in org_name:\n",
    "                    return keyword\n",
    "            return None\n",
    "\n",
    "        X = X.copy()\n",
    "        X['organization'] = X['organization'].apply(match_department)\n",
    "        return X\n",
    "\n",
    "\n",
    "class TextCleaner(BaseEstimator, TransformerMixin):\n",
    "    def fit(self, X, y=None):\n",
    "        return self\n",
    "\n",
    "    def transform(self, X):\n",
    "        def clean_text(text):\n",
    "            if pd.isna(text):\n",
    "                return \"\"\n",
    "            text = re.sub(r'[^a-zA-Z0-9\\u0E00-\\u0E7F\\s]', '', text)\n",
    "            text = re.sub(r'\\s+', ' ', text).strip()\n",
    "            return text\n",
    "\n",
    "        X = X.copy()\n",
    "        X['comment'] = X['comment'].apply(clean_text)\n",
    "        return X\n",
    "\n",
    "\n",
    "# The full pipeline\n",
    "pipeline = Pipeline(steps=[\n",
    "    ('convert_dates', DateTimeConverter(['timestamp', 'last_activity'])),\n",
    "    ('drop_na_essential', FunctionTransformer(\n",
    "        lambda df: df.dropna(subset=['ticket_id', 'comment', 'type', 'timestamp', 'last_activity', 'organization', 'district', 'state']),\n",
    "        validate=False,\n",
    "        feature_names_out='one-to-one'\n",
    "    )),\n",
    "    ('drop_duplicates', FunctionTransformer(\n",
    "        lambda df: df.drop_duplicates(),\n",
    "        validate=False,\n",
    "        feature_names_out='one-to-one'\n",
    "    )),\n",
    "    ('calc_resolution_time', ResolutionTimeCalculator()),\n",
    "    ('remove_outliers', OutlierRemover()),\n",
    "    ('impute_star', FunctionTransformer(\n",
    "        lambda df: df.assign(star=df['star'].fillna(df['star'].mean())),\n",
    "        validate=False,\n",
    "        feature_names_out='one-to-one'\n",
    "    )),\n",
    "    ('match_department', DepartmentMatcher()),\n",
    "    ('drop_org_na', FunctionTransformer(\n",
    "        lambda df: df.dropna(subset=['organization']),\n",
    "        validate=False,\n",
    "        feature_names_out='one-to-one'\n",
    "    )),\n",
    "    ('clean_comment', TextCleaner()),\n",
    "    ('filter_province', FunctionTransformer(\n",
    "        lambda df: df[df['province'].isin(bangkok_variants)].copy(),\n",
    "        validate=False,\n",
    "        feature_names_out='one-to-one'\n",
    "    )),\n",
    "    ('filter_district', FunctionTransformer(\n",
    "        lambda df: df[df['district'].isin(bangkok_districts)].copy(),\n",
    "        validate=False,\n",
    "        feature_names_out='one-to-one'\n",
    "    ))\n",
    "])"
   ]
  },
  {
   "cell_type": "code",
   "execution_count": 4,
   "id": "e87a17de",
   "metadata": {
    "execution": {
     "iopub.execute_input": "2025-05-06T08:58:24.946683Z",
     "iopub.status.busy": "2025-05-06T08:58:24.946350Z",
     "iopub.status.idle": "2025-05-06T08:58:42.075001Z",
     "shell.execute_reply": "2025-05-06T08:58:42.074441Z"
    },
    "papermill": {
     "duration": 17.132748,
     "end_time": "2025-05-06T08:58:42.076233",
     "exception": false,
     "start_time": "2025-05-06T08:58:24.943485",
     "status": "completed"
    },
    "tags": []
   },
   "outputs": [],
   "source": [
    "df_cleaned = pipeline.fit_transform(df)\n",
    "df_scrape_cleaned = pipeline.fit_transform(df_scrape)"
   ]
  },
  {
   "cell_type": "code",
   "execution_count": 5,
   "id": "facaf429",
   "metadata": {
    "execution": {
     "iopub.execute_input": "2025-05-06T08:58:42.081535Z",
     "iopub.status.busy": "2025-05-06T08:58:42.081311Z",
     "iopub.status.idle": "2025-05-06T08:58:42.085319Z",
     "shell.execute_reply": "2025-05-06T08:58:42.084578Z"
    },
    "papermill": {
     "duration": 0.007926,
     "end_time": "2025-05-06T08:58:42.086483",
     "exception": false,
     "start_time": "2025-05-06T08:58:42.078557",
     "status": "completed"
    },
    "tags": []
   },
   "outputs": [
    {
     "name": "stdout",
     "output_type": "stream",
     "text": [
      "df_cleaned: (660994, 17)\n",
      "df_scapre_cleaned: (14321, 15)\n"
     ]
    }
   ],
   "source": [
    "print(\"df_cleaned:\", df_cleaned.shape)\n",
    "print(\"df_scapre_cleaned:\", df_scrape_cleaned.shape)"
   ]
  },
  {
   "cell_type": "code",
   "execution_count": 6,
   "id": "28515445",
   "metadata": {
    "execution": {
     "iopub.execute_input": "2025-05-06T08:58:42.092447Z",
     "iopub.status.busy": "2025-05-06T08:58:42.092016Z",
     "iopub.status.idle": "2025-05-06T08:58:44.075294Z",
     "shell.execute_reply": "2025-05-06T08:58:44.074684Z"
    },
    "papermill": {
     "duration": 1.988139,
     "end_time": "2025-05-06T08:58:44.076649",
     "exception": false,
     "start_time": "2025-05-06T08:58:42.088510",
     "status": "completed"
    },
    "tags": []
   },
   "outputs": [],
   "source": [
    "df_combined = pd.concat([df_cleaned, df_scrape_cleaned], ignore_index=True)"
   ]
  },
  {
   "cell_type": "code",
   "execution_count": 7,
   "id": "a0b5741c",
   "metadata": {
    "execution": {
     "iopub.execute_input": "2025-05-06T08:58:44.081979Z",
     "iopub.status.busy": "2025-05-06T08:58:44.081745Z",
     "iopub.status.idle": "2025-05-06T08:58:44.129739Z",
     "shell.execute_reply": "2025-05-06T08:58:44.129182Z"
    },
    "papermill": {
     "duration": 0.051742,
     "end_time": "2025-05-06T08:58:44.130801",
     "exception": false,
     "start_time": "2025-05-06T08:58:44.079059",
     "status": "completed"
    },
    "tags": []
   },
   "outputs": [
    {
     "data": {
      "text/plain": [
       "district\n",
       "จตุจักร              32465\n",
       "ประเวศ               23833\n",
       "คลองเตย              22809\n",
       "วัฒนา                22405\n",
       "บางกะปิ              21429\n",
       "บางแค                21384\n",
       "ปทุมวัน              19819\n",
       "บางเขน               19791\n",
       "บางขุนเทียน          18237\n",
       "ราชเทวี              16859\n",
       "ดินแดง               16221\n",
       "พระนคร               16127\n",
       "บางกอกน้อย           16021\n",
       "บึงกุ่ม              15632\n",
       "สาทร                 14843\n",
       "บางซื่อ              14707\n",
       "ลาดพร้าว             14359\n",
       "ธนบุรี               14317\n",
       "ห้วยขวาง             13956\n",
       "สวนหลวง              13837\n",
       "ลาดกระบัง            13655\n",
       "วังทองหลาง           13352\n",
       "คลองสามวา            13269\n",
       "พญาไท                12864\n",
       "บางนา                12424\n",
       "ภาษีเจริญ            12231\n",
       "หนองจอก              12192\n",
       "บางพลัด              12188\n",
       "หลักสี่              11957\n",
       "สายไหม               11933\n",
       "มีนบุรี              11738\n",
       "ตลิ่งชัน             11711\n",
       "ยานนาวา              10924\n",
       "ป้อมปราบศัตรูพ่าย    10773\n",
       "บางรัก               10704\n",
       "พระโขนง              10636\n",
       "บางคอแหลม            10392\n",
       "ดอนเมือง             10370\n",
       "จอมทอง               10326\n",
       "หนองแขม               9728\n",
       "สะพานสูง              9723\n",
       "ทุ่งครุ               8030\n",
       "ดุสิต                 7998\n",
       "คันนายาว              7802\n",
       "บางบอน                7688\n",
       "คลองสาน               7529\n",
       "ทวีวัฒนา              7225\n",
       "ราษฎร์บูรณะ           6516\n",
       "บางกอกใหญ่            5767\n",
       "สัมพันธวงศ์           4619\n",
       "Name: count, dtype: int64"
      ]
     },
     "execution_count": 7,
     "metadata": {},
     "output_type": "execute_result"
    }
   ],
   "source": [
    "df_combined['district'].value_counts()"
   ]
  },
  {
   "cell_type": "code",
   "execution_count": 8,
   "id": "8002dc18",
   "metadata": {
    "execution": {
     "iopub.execute_input": "2025-05-06T08:58:44.135912Z",
     "iopub.status.busy": "2025-05-06T08:58:44.135735Z",
     "iopub.status.idle": "2025-05-06T08:58:44.171021Z",
     "shell.execute_reply": "2025-05-06T08:58:44.170338Z"
    },
    "papermill": {
     "duration": 0.039059,
     "end_time": "2025-05-06T08:58:44.172147",
     "exception": false,
     "start_time": "2025-05-06T08:58:44.133088",
     "status": "completed"
    },
    "tags": []
   },
   "outputs": [
    {
     "data": {
      "text/plain": [
       "organization\n",
       "เขต                         636978\n",
       "สำนักงานก่อสร้างและบูรณะ     37616\n",
       "สำนักสิ่งแวดล้อม               275\n",
       "กองบัญชาการตำรวจนครบาล         141\n",
       "กลุ่มงานสัญญาณไฟจราจร          103\n",
       "สำนักการจราจรและขนส่ง           91\n",
       "สำนักการโยธา                    49\n",
       "สำนักการระบายน้ำ                47\n",
       "การประปานครหลวง                 11\n",
       "ขสมก.                            2\n",
       "การไฟฟ้านครหลวง                  1\n",
       "กสทช.                            1\n",
       "Name: count, dtype: int64"
      ]
     },
     "execution_count": 8,
     "metadata": {},
     "output_type": "execute_result"
    }
   ],
   "source": [
    "df_combined['organization'].value_counts()"
   ]
  },
  {
   "cell_type": "code",
   "execution_count": 9,
   "id": "98eeeefb",
   "metadata": {
    "execution": {
     "iopub.execute_input": "2025-05-06T08:58:44.177495Z",
     "iopub.status.busy": "2025-05-06T08:58:44.177189Z",
     "iopub.status.idle": "2025-05-06T08:59:04.179641Z",
     "shell.execute_reply": "2025-05-06T08:59:04.179071Z"
    },
    "papermill": {
     "duration": 20.006575,
     "end_time": "2025-05-06T08:59:04.181078",
     "exception": false,
     "start_time": "2025-05-06T08:58:44.174503",
     "status": "completed"
    },
    "tags": []
   },
   "outputs": [],
   "source": [
    "df_combined.to_csv('cleaned_data.csv', index=False)"
   ]
  },
  {
   "cell_type": "code",
   "execution_count": 10,
   "id": "25e317af",
   "metadata": {
    "execution": {
     "iopub.execute_input": "2025-05-06T08:59:04.186672Z",
     "iopub.status.busy": "2025-05-06T08:59:04.186482Z",
     "iopub.status.idle": "2025-05-06T08:59:04.205861Z",
     "shell.execute_reply": "2025-05-06T08:59:04.205231Z"
    },
    "papermill": {
     "duration": 0.023222,
     "end_time": "2025-05-06T08:59:04.206872",
     "exception": false,
     "start_time": "2025-05-06T08:59:04.183650",
     "status": "completed"
    },
    "tags": []
   },
   "outputs": [
    {
     "data": {
      "text/html": [
       "<div>\n",
       "<style scoped>\n",
       "    .dataframe tbody tr th:only-of-type {\n",
       "        vertical-align: middle;\n",
       "    }\n",
       "\n",
       "    .dataframe tbody tr th {\n",
       "        vertical-align: top;\n",
       "    }\n",
       "\n",
       "    .dataframe thead th {\n",
       "        text-align: right;\n",
       "    }\n",
       "</style>\n",
       "<table border=\"1\" class=\"dataframe\">\n",
       "  <thead>\n",
       "    <tr style=\"text-align: right;\">\n",
       "      <th></th>\n",
       "      <th>ticket_id</th>\n",
       "      <th>type</th>\n",
       "      <th>organization</th>\n",
       "      <th>comment</th>\n",
       "      <th>photo</th>\n",
       "      <th>photo_after</th>\n",
       "      <th>coords</th>\n",
       "      <th>address</th>\n",
       "      <th>subdistrict</th>\n",
       "      <th>district</th>\n",
       "      <th>province</th>\n",
       "      <th>timestamp</th>\n",
       "      <th>state</th>\n",
       "      <th>star</th>\n",
       "      <th>count_reopen</th>\n",
       "      <th>last_activity</th>\n",
       "      <th>resolution_time</th>\n",
       "    </tr>\n",
       "  </thead>\n",
       "  <tbody>\n",
       "    <tr>\n",
       "      <th>675310</th>\n",
       "      <td>2025-9MDMC4</td>\n",
       "      <td>{ผิดกฎจราจร}</td>\n",
       "      <td>เขต</td>\n",
       "      <td>วันที่ 18 เมย 2568 ยังคงมี รถตุ๊กตุ๊ก จอด ซึ่ง...</td>\n",
       "      <td>NaN</td>\n",
       "      <td>NaN</td>\n",
       "      <td>100.52773, 13.76707</td>\n",
       "      <td>ป้ายรถประจำทาง โรงพยาบาลรามา 1 แขวงทุ่งพญาไท เ...</td>\n",
       "      <td>ทุ่งพญาไท</td>\n",
       "      <td>ราชเทวี</td>\n",
       "      <td>กรุงเทพมหานคร</td>\n",
       "      <td>2025-04-18 09:17:05</td>\n",
       "      <td>ส่งต่อ(ใหม่)</td>\n",
       "      <td>4.270893</td>\n",
       "      <td>0</td>\n",
       "      <td>2025-04-18 09:34:12</td>\n",
       "      <td>0.285278</td>\n",
       "    </tr>\n",
       "    <tr>\n",
       "      <th>675311</th>\n",
       "      <td>2025-V6JH9K</td>\n",
       "      <td>{ต้นไม้}</td>\n",
       "      <td>เขต</td>\n",
       "      <td>ต้นไม้ยื่นกิ่งก้านยาวเข้าบ้าน</td>\n",
       "      <td>NaN</td>\n",
       "      <td>NaN</td>\n",
       "      <td>100.48312, 13.71854</td>\n",
       "      <td>132 ถ. ราชพฤกษ์ แขวงบุคคโล เขตธนบุรี กรุงเทพมห...</td>\n",
       "      <td>บุคคโล</td>\n",
       "      <td>ธนบุรี</td>\n",
       "      <td>กรุงเทพมหานคร</td>\n",
       "      <td>2025-04-18 09:16:27</td>\n",
       "      <td>เสร็จสิ้น</td>\n",
       "      <td>5.000000</td>\n",
       "      <td>0</td>\n",
       "      <td>2025-04-18 22:29:51</td>\n",
       "      <td>13.223333</td>\n",
       "    </tr>\n",
       "    <tr>\n",
       "      <th>675312</th>\n",
       "      <td>2025-U2NYVN</td>\n",
       "      <td>{ผิดกฎจราจร}</td>\n",
       "      <td>เขต</td>\n",
       "      <td>จุดนี้มีรถกระบะสีกรม ทะเบียน ณต3127 จอดขวางเส้...</td>\n",
       "      <td>NaN</td>\n",
       "      <td>NaN</td>\n",
       "      <td>100.59882, 13.88766</td>\n",
       "      <td>54 ซอย พหลโยธิน 63 แยก 2 แขวงอนุสาวรีย์ เขตบาง...</td>\n",
       "      <td>อนุสาวรีย์</td>\n",
       "      <td>บางเขน</td>\n",
       "      <td>จังหวัดกรุงเทพมหานคร</td>\n",
       "      <td>2025-04-18 09:15:04</td>\n",
       "      <td>เสร็จสิ้น</td>\n",
       "      <td>5.000000</td>\n",
       "      <td>0</td>\n",
       "      <td>2025-04-19 16:16:25</td>\n",
       "      <td>31.022500</td>\n",
       "    </tr>\n",
       "    <tr>\n",
       "      <th>675313</th>\n",
       "      <td>88V7MX</td>\n",
       "      <td>{สัตว์}</td>\n",
       "      <td>เขต</td>\n",
       "      <td>ศูนย์เรื่องราวร้องทุกข์ ได้รับการประสานผ่านระบ...</td>\n",
       "      <td>NaN</td>\n",
       "      <td>NaN</td>\n",
       "      <td>100.6605, 13.89515</td>\n",
       "      <td>สำนักงานเขตสายไหม ถนนสุขาภิบาล ๕ แขวงออเงิน เข...</td>\n",
       "      <td>ออเงิน</td>\n",
       "      <td>สายไหม</td>\n",
       "      <td>จังหวัดกรุงเทพมหานคร</td>\n",
       "      <td>2025-04-18 09:13:41</td>\n",
       "      <td>เสร็จสิ้น</td>\n",
       "      <td>4.270893</td>\n",
       "      <td>0</td>\n",
       "      <td>2025-04-23 22:15:21</td>\n",
       "      <td>133.027778</td>\n",
       "    </tr>\n",
       "    <tr>\n",
       "      <th>675314</th>\n",
       "      <td>2025-K9PNFH</td>\n",
       "      <td>{เสียง}</td>\n",
       "      <td>เขต</td>\n",
       "      <td>ข้าพเจ้าขอเรียนแจ้งว่า มีการต่อเติมและก่อสร้าง...</td>\n",
       "      <td>NaN</td>\n",
       "      <td>NaN</td>\n",
       "      <td>100.52153, 13.74182</td>\n",
       "      <td>150/13 ซอย จรัญเมือง แขวงรองเมือง เขตปทุมวัน ก...</td>\n",
       "      <td>รองเมือง</td>\n",
       "      <td>ปทุมวัน</td>\n",
       "      <td>จังหวัดกรุงเทพมหานคร</td>\n",
       "      <td>2025-04-18 09:08:56</td>\n",
       "      <td>เสร็จสิ้น</td>\n",
       "      <td>4.270893</td>\n",
       "      <td>0</td>\n",
       "      <td>2025-04-22 12:35:49</td>\n",
       "      <td>99.448056</td>\n",
       "    </tr>\n",
       "  </tbody>\n",
       "</table>\n",
       "</div>"
      ],
      "text/plain": [
       "          ticket_id          type organization  \\\n",
       "675310  2025-9MDMC4  {ผิดกฎจราจร}          เขต   \n",
       "675311  2025-V6JH9K      {ต้นไม้}          เขต   \n",
       "675312  2025-U2NYVN  {ผิดกฎจราจร}          เขต   \n",
       "675313       88V7MX       {สัตว์}          เขต   \n",
       "675314  2025-K9PNFH       {เสียง}          เขต   \n",
       "\n",
       "                                                  comment photo photo_after  \\\n",
       "675310  วันที่ 18 เมย 2568 ยังคงมี รถตุ๊กตุ๊ก จอด ซึ่ง...   NaN         NaN   \n",
       "675311                      ต้นไม้ยื่นกิ่งก้านยาวเข้าบ้าน   NaN         NaN   \n",
       "675312  จุดนี้มีรถกระบะสีกรม ทะเบียน ณต3127 จอดขวางเส้...   NaN         NaN   \n",
       "675313  ศูนย์เรื่องราวร้องทุกข์ ได้รับการประสานผ่านระบ...   NaN         NaN   \n",
       "675314  ข้าพเจ้าขอเรียนแจ้งว่า มีการต่อเติมและก่อสร้าง...   NaN         NaN   \n",
       "\n",
       "                     coords  \\\n",
       "675310  100.52773, 13.76707   \n",
       "675311  100.48312, 13.71854   \n",
       "675312  100.59882, 13.88766   \n",
       "675313   100.6605, 13.89515   \n",
       "675314  100.52153, 13.74182   \n",
       "\n",
       "                                                  address subdistrict  \\\n",
       "675310  ป้ายรถประจำทาง โรงพยาบาลรามา 1 แขวงทุ่งพญาไท เ...   ทุ่งพญาไท   \n",
       "675311  132 ถ. ราชพฤกษ์ แขวงบุคคโล เขตธนบุรี กรุงเทพมห...      บุคคโล   \n",
       "675312  54 ซอย พหลโยธิน 63 แยก 2 แขวงอนุสาวรีย์ เขตบาง...  อนุสาวรีย์   \n",
       "675313  สำนักงานเขตสายไหม ถนนสุขาภิบาล ๕ แขวงออเงิน เข...      ออเงิน   \n",
       "675314  150/13 ซอย จรัญเมือง แขวงรองเมือง เขตปทุมวัน ก...    รองเมือง   \n",
       "\n",
       "       district              province            timestamp         state  \\\n",
       "675310  ราชเทวี         กรุงเทพมหานคร  2025-04-18 09:17:05  ส่งต่อ(ใหม่)   \n",
       "675311   ธนบุรี         กรุงเทพมหานคร  2025-04-18 09:16:27     เสร็จสิ้น   \n",
       "675312   บางเขน  จังหวัดกรุงเทพมหานคร  2025-04-18 09:15:04     เสร็จสิ้น   \n",
       "675313   สายไหม  จังหวัดกรุงเทพมหานคร  2025-04-18 09:13:41     เสร็จสิ้น   \n",
       "675314  ปทุมวัน  จังหวัดกรุงเทพมหานคร  2025-04-18 09:08:56     เสร็จสิ้น   \n",
       "\n",
       "            star  count_reopen        last_activity  resolution_time  \n",
       "675310  4.270893             0  2025-04-18 09:34:12         0.285278  \n",
       "675311  5.000000             0  2025-04-18 22:29:51        13.223333  \n",
       "675312  5.000000             0  2025-04-19 16:16:25        31.022500  \n",
       "675313  4.270893             0  2025-04-23 22:15:21       133.027778  \n",
       "675314  4.270893             0  2025-04-22 12:35:49        99.448056  "
      ]
     },
     "execution_count": 10,
     "metadata": {},
     "output_type": "execute_result"
    }
   ],
   "source": [
    "df_combined.tail()"
   ]
  }
 ],
 "metadata": {
  "kaggle": {
   "accelerator": "gpu",
   "dataSources": [
    {
     "datasetId": 7331674,
     "sourceId": 11681623,
     "sourceType": "datasetVersion"
    },
    {
     "datasetId": 7335888,
     "sourceId": 11696238,
     "sourceType": "datasetVersion"
    }
   ],
   "isGpuEnabled": true,
   "isInternetEnabled": true,
   "language": "python",
   "sourceType": "notebook"
  },
  "kernelspec": {
   "display_name": "Python 3",
   "language": "python",
   "name": "python3"
  },
  "language_info": {
   "codemirror_mode": {
    "name": "ipython",
    "version": 3
   },
   "file_extension": ".py",
   "mimetype": "text/x-python",
   "name": "python",
   "nbconvert_exporter": "python",
   "pygments_lexer": "ipython3",
   "version": "3.11.11"
  },
  "papermill": {
   "default_parameters": {},
   "duration": 82.290565,
   "end_time": "2025-05-06T08:59:05.628912",
   "environment_variables": {},
   "exception": null,
   "input_path": "__notebook__.ipynb",
   "output_path": "__notebook__.ipynb",
   "parameters": {},
   "start_time": "2025-05-06T08:57:43.338347",
   "version": "2.6.0"
  }
 },
 "nbformat": 4,
 "nbformat_minor": 5
}
