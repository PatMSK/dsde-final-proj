{
  "nbformat": 4,
  "nbformat_minor": 0,
  "metadata": {
    "colab": {
      "provenance": [],
      "gpuType": "T4"
    },
    "kernelspec": {
      "name": "python3",
      "display_name": "Python 3"
    },
    "language_info": {
      "name": "python"
    }
  },
  "cells": [
    {
      "cell_type": "code",
      "execution_count": null,
      "metadata": {
        "colab": {
          "base_uri": "https://localhost:8080/"
        },
        "id": "0tbbKm4v1bLK",
        "outputId": "4af086c8-20ac-4539-fb06-94a226a65e07"
      },
      "outputs": [
        {
          "output_type": "stream",
          "name": "stdout",
          "text": [
            "Requirement already satisfied: requests in /usr/local/lib/python3.11/dist-packages (2.32.3)\n",
            "Requirement already satisfied: beautifulsoup4 in /usr/local/lib/python3.11/dist-packages (4.13.4)\n",
            "Requirement already satisfied: charset-normalizer<4,>=2 in /usr/local/lib/python3.11/dist-packages (from requests) (3.4.1)\n",
            "Requirement already satisfied: idna<4,>=2.5 in /usr/local/lib/python3.11/dist-packages (from requests) (3.10)\n",
            "Requirement already satisfied: urllib3<3,>=1.21.1 in /usr/local/lib/python3.11/dist-packages (from requests) (2.4.0)\n",
            "Requirement already satisfied: certifi>=2017.4.17 in /usr/local/lib/python3.11/dist-packages (from requests) (2025.4.26)\n",
            "Requirement already satisfied: soupsieve>1.2 in /usr/local/lib/python3.11/dist-packages (from beautifulsoup4) (2.7)\n",
            "Requirement already satisfied: typing-extensions>=4.0.0 in /usr/local/lib/python3.11/dist-packages (from beautifulsoup4) (4.13.2)\n"
          ]
        }
      ],
      "source": [
        "! pip install requests beautifulsoup4"
      ]
    },
    {
      "cell_type": "code",
      "source": [
        "import requests\n",
        "import csv\n",
        "import time\n",
        "\n",
        "API_URL = 'https://publicapi.traffy.in.th/teamchadchart-stat-api/geojson/v1'\n",
        "LIMIT = 1000\n",
        "TOTAL = 20000\n",
        "params_template = {\n",
        "    'output_format': 'json',\n",
        "    'name': 'รัชปัศย์ แบนประเสริฐ',\n",
        "    'org': 'CU',\n",
        "    'purpose': 'ทำ project วิชา 2110446 DSDE 2024/2 ',\n",
        "    'email': 'traffyteam@gmail.com',\n",
        "    'limit': LIMIT,\n",
        "    'offset': 0,\n",
        "    'sort': 'DESC'\n",
        "}\n",
        "\n",
        "seen_ticket_ids = set()\n",
        "seen_comments = set()\n",
        "\n",
        "with open('fondue_scraping.csv', 'w', newline='', encoding='utf-8') as csvfile:\n",
        "    fieldnames = ['ticket_id', 'type', 'organization', 'comment',\n",
        "                  'coords', 'address', 'subdistrict', 'district', 'province',\n",
        "                  'timestamp', 'state', 'star', 'count_reopen', 'last_activity']\n",
        "    writer = csv.DictWriter(csvfile, fieldnames=fieldnames)\n",
        "    writer.writeheader()\n",
        "\n",
        "    for offset in range(0, TOTAL, LIMIT):\n",
        "        params = params_template.copy()\n",
        "        params['offset'] = offset\n",
        "\n",
        "        response = requests.get(API_URL, params=params)\n",
        "        if response.status_code == 200:\n",
        "            data = response.json()\n",
        "            features = data.get('features', [])\n",
        "            print(f'Offset {offset}: Got {len(features)} records')\n",
        "            for item in features:\n",
        "                props = item['properties']\n",
        "                coords = item['geometry']['coordinates']\n",
        "                ticket_id = props.get('ticket_id')\n",
        "                comment = props.get('description', '').strip()\n",
        "\n",
        "                if ticket_id in seen_ticket_ids or comment in seen_comments:\n",
        "                    continue\n",
        "\n",
        "                seen_ticket_ids.add(ticket_id)\n",
        "                if comment:\n",
        "                    seen_comments.add(comment)\n",
        "\n",
        "                # ดึง type และทำ format เป็น {type1,type2}\n",
        "                type_list = props.get('problem_type_fondue', [])\n",
        "                type_field = f\"{{{', '.join(type_list)}}}\" if type_list else ''\n",
        "\n",
        "                # ดึง org และลบ 'กรุงเทพมหานคร' ออก\n",
        "                org_list = [org for org in props.get('org', []) if org != 'กรุงเทพมหานคร']\n",
        "                org_field = ', '.join(org_list)\n",
        "\n",
        "                writer.writerow({\n",
        "                    'ticket_id': ticket_id,\n",
        "                    'type': type_field,\n",
        "                    'organization': org_field,\n",
        "                    'comment': comment,\n",
        "                    'coords': f\"{coords[0]}, {coords[1]}\" if coords else '',\n",
        "                    'address': props.get('address', ''),\n",
        "                    'subdistrict': props.get('subdistrict', ''),\n",
        "                    'district': props.get('district', ''),\n",
        "                    'province': props.get('province', ''),\n",
        "                    'timestamp': props.get('timestamp', ''),\n",
        "                    'state': props.get('state', ''),\n",
        "                    'star': props.get('star'),\n",
        "                    'count_reopen': props.get('count_reopen'),\n",
        "                    'last_activity': props.get('last_activity', '')\n",
        "                })\n",
        "        else:\n",
        "            print(f'Failed to fetch offset {offset}: {response.status_code}')\n",
        "\n",
        "        time.sleep(1)\n"
      ],
      "metadata": {
        "colab": {
          "base_uri": "https://localhost:8080/"
        },
        "id": "ABrb2VHH1j4-",
        "outputId": "49222acc-4d23-425e-956e-aa2ef2300e75"
      },
      "execution_count": null,
      "outputs": [
        {
          "output_type": "stream",
          "name": "stdout",
          "text": [
            "Offset 0: Got 1000 records\n",
            "Offset 1000: Got 1000 records\n",
            "Offset 2000: Got 1000 records\n",
            "Offset 3000: Got 1000 records\n",
            "Offset 4000: Got 1000 records\n",
            "Offset 5000: Got 1000 records\n",
            "Offset 6000: Got 1000 records\n",
            "Offset 7000: Got 1000 records\n",
            "Offset 8000: Got 1000 records\n",
            "Offset 9000: Got 1000 records\n",
            "Offset 10000: Got 1000 records\n",
            "Offset 11000: Got 1000 records\n",
            "Offset 12000: Got 1000 records\n",
            "Offset 13000: Got 1000 records\n",
            "Offset 14000: Got 1000 records\n",
            "Offset 15000: Got 1000 records\n",
            "Offset 16000: Got 1000 records\n",
            "Offset 17000: Got 1000 records\n",
            "Offset 18000: Got 1000 records\n",
            "Offset 19000: Got 1000 records\n"
          ]
        }
      ]
    }
  ]
}