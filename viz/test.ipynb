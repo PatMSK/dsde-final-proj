{
 "cells": [
  {
   "cell_type": "code",
   "execution_count": 34,
   "id": "6b956cf0",
   "metadata": {},
   "outputs": [],
   "source": [
    "import pandas as pd"
   ]
  },
  {
   "cell_type": "code",
   "execution_count": 35,
   "id": "f35a020a",
   "metadata": {},
   "outputs": [],
   "source": [
    "df = pd.read_csv(\"cleaned_data.csv\", usecols=[\"ticket_id\", \"organization\", \"district\", \"coords\"])"
   ]
  },
  {
   "cell_type": "code",
   "execution_count": 39,
   "id": "1d3a37ad",
   "metadata": {},
   "outputs": [],
   "source": [
    "df_ks = df[df['district'] == \"คลองสาน\"]"
   ]
  },
  {
   "cell_type": "code",
   "execution_count": 40,
   "id": "2194bb7c",
   "metadata": {},
   "outputs": [
    {
     "data": {
      "text/html": [
       "<div>\n",
       "<style scoped>\n",
       "    .dataframe tbody tr th:only-of-type {\n",
       "        vertical-align: middle;\n",
       "    }\n",
       "\n",
       "    .dataframe tbody tr th {\n",
       "        vertical-align: top;\n",
       "    }\n",
       "\n",
       "    .dataframe thead th {\n",
       "        text-align: right;\n",
       "    }\n",
       "</style>\n",
       "<table border=\"1\" class=\"dataframe\">\n",
       "  <thead>\n",
       "    <tr style=\"text-align: right;\">\n",
       "      <th></th>\n",
       "      <th>organization</th>\n",
       "      <th>count</th>\n",
       "    </tr>\n",
       "  </thead>\n",
       "  <tbody>\n",
       "    <tr>\n",
       "      <th>0</th>\n",
       "      <td>เขต</td>\n",
       "      <td>6993</td>\n",
       "    </tr>\n",
       "    <tr>\n",
       "      <th>1</th>\n",
       "      <td>สำนักงานก่อสร้างและบูรณะ</td>\n",
       "      <td>533</td>\n",
       "    </tr>\n",
       "    <tr>\n",
       "      <th>2</th>\n",
       "      <td>สำนักการระบายน้ำ</td>\n",
       "      <td>1</td>\n",
       "    </tr>\n",
       "    <tr>\n",
       "      <th>3</th>\n",
       "      <td>สำนักการจราจรและขนส่ง</td>\n",
       "      <td>1</td>\n",
       "    </tr>\n",
       "    <tr>\n",
       "      <th>4</th>\n",
       "      <td>กองบัญชาการตำรวจนครบาล</td>\n",
       "      <td>1</td>\n",
       "    </tr>\n",
       "  </tbody>\n",
       "</table>\n",
       "</div>"
      ],
      "text/plain": [
       "               organization  count\n",
       "0                       เขต   6993\n",
       "1  สำนักงานก่อสร้างและบูรณะ    533\n",
       "2          สำนักการระบายน้ำ      1\n",
       "3     สำนักการจราจรและขนส่ง      1\n",
       "4    กองบัญชาการตำรวจนครบาล      1"
      ]
     },
     "execution_count": 40,
     "metadata": {},
     "output_type": "execute_result"
    }
   ],
   "source": [
    "org_counts = df_ks['organization'].value_counts().reset_index()\n",
    "org_counts"
   ]
  },
  {
   "cell_type": "code",
   "execution_count": 19,
   "id": "19e7010e",
   "metadata": {},
   "outputs": [],
   "source": [
    "df[['lon', 'lat']] = df['coords'].str.split(\",\", expand=True).astype(float)"
   ]
  },
  {
   "cell_type": "code",
   "execution_count": 20,
   "id": "cd542f8c",
   "metadata": {},
   "outputs": [
    {
     "data": {
      "text/html": [
       "<div>\n",
       "<style scoped>\n",
       "    .dataframe tbody tr th:only-of-type {\n",
       "        vertical-align: middle;\n",
       "    }\n",
       "\n",
       "    .dataframe tbody tr th {\n",
       "        vertical-align: top;\n",
       "    }\n",
       "\n",
       "    .dataframe thead th {\n",
       "        text-align: right;\n",
       "    }\n",
       "</style>\n",
       "<table border=\"1\" class=\"dataframe\">\n",
       "  <thead>\n",
       "    <tr style=\"text-align: right;\">\n",
       "      <th></th>\n",
       "      <th>ticket_id</th>\n",
       "      <th>organization</th>\n",
       "      <th>coords</th>\n",
       "      <th>district</th>\n",
       "      <th>lon</th>\n",
       "      <th>lat</th>\n",
       "    </tr>\n",
       "  </thead>\n",
       "  <tbody>\n",
       "    <tr>\n",
       "      <th>0</th>\n",
       "      <td>2022-7ZTKJV</td>\n",
       "      <td>เขต</td>\n",
       "      <td>100.53764,13.70716</td>\n",
       "      <td>สาทร</td>\n",
       "      <td>100.53764</td>\n",
       "      <td>13.70716</td>\n",
       "    </tr>\n",
       "    <tr>\n",
       "      <th>1</th>\n",
       "      <td>2022-E24G76</td>\n",
       "      <td>เขต</td>\n",
       "      <td>100.52674,13.70950</td>\n",
       "      <td>สาทร</td>\n",
       "      <td>100.52674</td>\n",
       "      <td>13.70950</td>\n",
       "    </tr>\n",
       "    <tr>\n",
       "      <th>2</th>\n",
       "      <td>2022-C37YCA</td>\n",
       "      <td>เขต</td>\n",
       "      <td>100.52678,13.70967</td>\n",
       "      <td>สาทร</td>\n",
       "      <td>100.52678</td>\n",
       "      <td>13.70967</td>\n",
       "    </tr>\n",
       "    <tr>\n",
       "      <th>3</th>\n",
       "      <td>2022-8EW3HK</td>\n",
       "      <td>สำนักสิ่งแวดล้อม</td>\n",
       "      <td>100.65816,13.68814</td>\n",
       "      <td>ประเวศ</td>\n",
       "      <td>100.65816</td>\n",
       "      <td>13.68814</td>\n",
       "    </tr>\n",
       "    <tr>\n",
       "      <th>4</th>\n",
       "      <td>2022-98YDNN</td>\n",
       "      <td>เขต</td>\n",
       "      <td>100.52789,13.70611</td>\n",
       "      <td>สาทร</td>\n",
       "      <td>100.52789</td>\n",
       "      <td>13.70611</td>\n",
       "    </tr>\n",
       "  </tbody>\n",
       "</table>\n",
       "</div>"
      ],
      "text/plain": [
       "     ticket_id      organization              coords district        lon  \\\n",
       "0  2022-7ZTKJV               เขต  100.53764,13.70716     สาทร  100.53764   \n",
       "1  2022-E24G76               เขต  100.52674,13.70950     สาทร  100.52674   \n",
       "2  2022-C37YCA               เขต  100.52678,13.70967     สาทร  100.52678   \n",
       "3  2022-8EW3HK  สำนักสิ่งแวดล้อม  100.65816,13.68814   ประเวศ  100.65816   \n",
       "4  2022-98YDNN               เขต  100.52789,13.70611     สาทร  100.52789   \n",
       "\n",
       "        lat  \n",
       "0  13.70716  \n",
       "1  13.70950  \n",
       "2  13.70967  \n",
       "3  13.68814  \n",
       "4  13.70611  "
      ]
     },
     "execution_count": 20,
     "metadata": {},
     "output_type": "execute_result"
    }
   ],
   "source": [
    "df.head(5)"
   ]
  },
  {
   "cell_type": "code",
   "execution_count": null,
   "id": "d0615a6f",
   "metadata": {},
   "outputs": [],
   "source": [
    "# df = df.dropna(subset=['lat', 'lon'])"
   ]
  },
  {
   "cell_type": "code",
   "execution_count": 21,
   "id": "46b1f703",
   "metadata": {},
   "outputs": [],
   "source": [
    "districts = df['district']\n",
    "selected_district = 'คลองสาน'"
   ]
  },
  {
   "cell_type": "code",
   "execution_count": 22,
   "id": "cf51d98c",
   "metadata": {},
   "outputs": [],
   "source": [
    "filtered_df = df[df['district'] == selected_district].copy()"
   ]
  },
  {
   "cell_type": "code",
   "execution_count": 24,
   "id": "46348309",
   "metadata": {},
   "outputs": [
    {
     "data": {
      "text/html": [
       "<div>\n",
       "<style scoped>\n",
       "    .dataframe tbody tr th:only-of-type {\n",
       "        vertical-align: middle;\n",
       "    }\n",
       "\n",
       "    .dataframe tbody tr th {\n",
       "        vertical-align: top;\n",
       "    }\n",
       "\n",
       "    .dataframe thead th {\n",
       "        text-align: right;\n",
       "    }\n",
       "</style>\n",
       "<table border=\"1\" class=\"dataframe\">\n",
       "  <thead>\n",
       "    <tr style=\"text-align: right;\">\n",
       "      <th></th>\n",
       "      <th>ticket_id</th>\n",
       "      <th>organization</th>\n",
       "      <th>coords</th>\n",
       "      <th>district</th>\n",
       "      <th>lon</th>\n",
       "      <th>lat</th>\n",
       "    </tr>\n",
       "  </thead>\n",
       "  <tbody>\n",
       "    <tr>\n",
       "      <th>143</th>\n",
       "      <td>2022-BDNT4F</td>\n",
       "      <td>การไฟฟ้านครหลวง</td>\n",
       "      <td>100.50675,13.71570</td>\n",
       "      <td>คลองสาน</td>\n",
       "      <td>100.50675</td>\n",
       "      <td>13.71570</td>\n",
       "    </tr>\n",
       "    <tr>\n",
       "      <th>230</th>\n",
       "      <td>2022-NYAWNU</td>\n",
       "      <td>เขต</td>\n",
       "      <td>100.50262,13.73346</td>\n",
       "      <td>คลองสาน</td>\n",
       "      <td>100.50262</td>\n",
       "      <td>13.73346</td>\n",
       "    </tr>\n",
       "    <tr>\n",
       "      <th>451</th>\n",
       "      <td>2022-6FZAAK</td>\n",
       "      <td>เขต</td>\n",
       "      <td>100.50185,13.72688</td>\n",
       "      <td>คลองสาน</td>\n",
       "      <td>100.50185</td>\n",
       "      <td>13.72688</td>\n",
       "    </tr>\n",
       "    <tr>\n",
       "      <th>452</th>\n",
       "      <td>2022-8CZXXE</td>\n",
       "      <td>เขต</td>\n",
       "      <td>100.50185,13.72688</td>\n",
       "      <td>คลองสาน</td>\n",
       "      <td>100.50185</td>\n",
       "      <td>13.72688</td>\n",
       "    </tr>\n",
       "    <tr>\n",
       "      <th>646</th>\n",
       "      <td>2022-D7U9YY</td>\n",
       "      <td>การไฟฟ้านครหลวง</td>\n",
       "      <td>100.50881,13.72727</td>\n",
       "      <td>คลองสาน</td>\n",
       "      <td>100.50881</td>\n",
       "      <td>13.72727</td>\n",
       "    </tr>\n",
       "    <tr>\n",
       "      <th>...</th>\n",
       "      <td>...</td>\n",
       "      <td>...</td>\n",
       "      <td>...</td>\n",
       "      <td>...</td>\n",
       "      <td>...</td>\n",
       "      <td>...</td>\n",
       "    </tr>\n",
       "    <tr>\n",
       "      <th>674693</th>\n",
       "      <td>8ZAH27</td>\n",
       "      <td>เขต</td>\n",
       "      <td>13.7284, 100.50805</td>\n",
       "      <td>คลองสาน</td>\n",
       "      <td>13.72840</td>\n",
       "      <td>100.50805</td>\n",
       "    </tr>\n",
       "    <tr>\n",
       "      <th>674905</th>\n",
       "      <td>2025-KYLUZE</td>\n",
       "      <td>เขต</td>\n",
       "      <td>13.71983, 100.49508</td>\n",
       "      <td>คลองสาน</td>\n",
       "      <td>13.71983</td>\n",
       "      <td>100.49508</td>\n",
       "    </tr>\n",
       "    <tr>\n",
       "      <th>675019</th>\n",
       "      <td>2025-BFY4TF</td>\n",
       "      <td>เขต</td>\n",
       "      <td>13.7235, 100.50008</td>\n",
       "      <td>คลองสาน</td>\n",
       "      <td>13.72350</td>\n",
       "      <td>100.50008</td>\n",
       "    </tr>\n",
       "    <tr>\n",
       "      <th>675151</th>\n",
       "      <td>2025-HG4JGM</td>\n",
       "      <td>เขต</td>\n",
       "      <td>13.72142, 100.49389</td>\n",
       "      <td>คลองสาน</td>\n",
       "      <td>13.72142</td>\n",
       "      <td>100.49389</td>\n",
       "    </tr>\n",
       "    <tr>\n",
       "      <th>675156</th>\n",
       "      <td>2025-X99347</td>\n",
       "      <td>เขต</td>\n",
       "      <td>13.72142, 100.49389</td>\n",
       "      <td>คลองสาน</td>\n",
       "      <td>13.72142</td>\n",
       "      <td>100.49389</td>\n",
       "    </tr>\n",
       "  </tbody>\n",
       "</table>\n",
       "<p>7525 rows × 6 columns</p>\n",
       "</div>"
      ],
      "text/plain": [
       "          ticket_id     organization               coords district        lon  \\\n",
       "143     2022-BDNT4F  การไฟฟ้านครหลวง   100.50675,13.71570  คลองสาน  100.50675   \n",
       "230     2022-NYAWNU              เขต   100.50262,13.73346  คลองสาน  100.50262   \n",
       "451     2022-6FZAAK              เขต   100.50185,13.72688  คลองสาน  100.50185   \n",
       "452     2022-8CZXXE              เขต   100.50185,13.72688  คลองสาน  100.50185   \n",
       "646     2022-D7U9YY  การไฟฟ้านครหลวง   100.50881,13.72727  คลองสาน  100.50881   \n",
       "...             ...              ...                  ...      ...        ...   \n",
       "674693       8ZAH27              เขต   13.7284, 100.50805  คลองสาน   13.72840   \n",
       "674905  2025-KYLUZE              เขต  13.71983, 100.49508  คลองสาน   13.71983   \n",
       "675019  2025-BFY4TF              เขต   13.7235, 100.50008  คลองสาน   13.72350   \n",
       "675151  2025-HG4JGM              เขต  13.72142, 100.49389  คลองสาน   13.72142   \n",
       "675156  2025-X99347              เขต  13.72142, 100.49389  คลองสาน   13.72142   \n",
       "\n",
       "              lat  \n",
       "143      13.71570  \n",
       "230      13.73346  \n",
       "451      13.72688  \n",
       "452      13.72688  \n",
       "646      13.72727  \n",
       "...           ...  \n",
       "674693  100.50805  \n",
       "674905  100.49508  \n",
       "675019  100.50008  \n",
       "675151  100.49389  \n",
       "675156  100.49389  \n",
       "\n",
       "[7525 rows x 6 columns]"
      ]
     },
     "execution_count": 24,
     "metadata": {},
     "output_type": "execute_result"
    }
   ],
   "source": [
    "filtered_df"
   ]
  },
  {
   "cell_type": "code",
   "execution_count": 13,
   "id": "a5b841f2",
   "metadata": {},
   "outputs": [
    {
     "name": "stdout",
     "output_type": "stream",
     "text": [
      "16.0423169820598\n"
     ]
    }
   ],
   "source": [
    "latitude=filtered_df['lat'].mean()\n",
    "print(latitude)"
   ]
  },
  {
   "cell_type": "code",
   "execution_count": 14,
   "id": "299d7fb8",
   "metadata": {},
   "outputs": [
    {
     "name": "stdout",
     "output_type": "stream",
     "text": [
      "98.18474333953488\n"
     ]
    }
   ],
   "source": [
    "longitude=filtered_df['lon'].mean()\n",
    "print(longitude)"
   ]
  }
 ],
 "metadata": {
  "kernelspec": {
   "display_name": "base",
   "language": "python",
   "name": "python3"
  },
  "language_info": {
   "codemirror_mode": {
    "name": "ipython",
    "version": 3
   },
   "file_extension": ".py",
   "mimetype": "text/x-python",
   "name": "python",
   "nbconvert_exporter": "python",
   "pygments_lexer": "ipython3",
   "version": "3.12.7"
  }
 },
 "nbformat": 4,
 "nbformat_minor": 5
}
